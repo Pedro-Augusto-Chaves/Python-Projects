{
 "cells": [
  {
   "cell_type": "markdown",
   "metadata": {},
   "source": [
    "2.1 Strings"
   ]
  },
  {
   "cell_type": "code",
   "execution_count": null,
   "metadata": {},
   "outputs": [],
   "source": [
    "#SUBSCRIPT\n",
    "print(\"Hello\"[0]) #Ira printar o caractere da posição dos colchetes"
   ]
  },
  {
   "cell_type": "markdown",
   "metadata": {},
   "source": [
    "2.2 Integer"
   ]
  },
  {
   "cell_type": "code",
   "execution_count": null,
   "metadata": {},
   "outputs": [],
   "source": [
    "print(12+14) #Números inteiros\n",
    "print(124_124_100) #as underlines são como pontos para separar casas de milhar"
   ]
  },
  {
   "cell_type": "markdown",
   "metadata": {},
   "source": [
    "2.3 Floats"
   ]
  },
  {
   "cell_type": "code",
   "execution_count": null,
   "metadata": {},
   "outputs": [],
   "source": [
    "print(3.14) #números decimais\n",
    "print(type(2/2)) #divisões sempre geram um float"
   ]
  },
  {
   "cell_type": "markdown",
   "metadata": {},
   "source": [
    "2.4 Boolean"
   ]
  },
  {
   "cell_type": "code",
   "execution_count": null,
   "metadata": {},
   "outputs": [],
   "source": [
    "print(True) #verdadeiro ou falso"
   ]
  },
  {
   "cell_type": "markdown",
   "metadata": {},
   "source": [
    "2.5 Type Function and Conversion"
   ]
  },
  {
   "cell_type": "code",
   "execution_count": null,
   "metadata": {},
   "outputs": [],
   "source": [
    "num_char = len(input(\"Qual seu nome\"))\n",
    "type(num_char) #mostra o tipo da variável\n",
    "\n",
    "str_num_char = str(num_char) #converte para string\n",
    "print(\"Seu nome tem \" + str_num_char + \" letras\")\n",
    "\n",
    "a = 12\n",
    "b = float(12) #converte para float\n",
    "print(b)\n",
    "b = float(\"120\")\n",
    "print(b)\n"
   ]
  },
  {
   "cell_type": "markdown",
   "metadata": {},
   "source": [
    "3. Operações Matemáticas"
   ]
  },
  {
   "cell_type": "code",
   "execution_count": null,
   "metadata": {},
   "outputs": [],
   "source": [
    "print(3+5) #Adição\n",
    "print(3-5) #Subtração\n",
    "print(3*2) #Multiplicação\n",
    "print(3/5) #Divisão\n",
    "print(8//3) #divisão que pega o número inteiro\n",
    "print(2**3) #Potênciação\n",
    "print(7%3) # Mostra o resto da divisão"
   ]
  },
  {
   "cell_type": "markdown",
   "metadata": {},
   "source": [
    "3.1 Ordem de Prioridade\n",
    "\n",
    "Parênteses > Potenciação > Multiplicação, Divisão > Subtração, Adição\n",
    "\n",
    "Em operações de mesmo grau de relevância, é feito quem tiver mais a esquerda."
   ]
  },
  {
   "cell_type": "code",
   "execution_count": null,
   "metadata": {},
   "outputs": [],
   "source": [
    "print(3*(3 + 3)/3 - 3)"
   ]
  },
  {
   "cell_type": "markdown",
   "metadata": {},
   "source": [
    "3.2 Round and Truncate"
   ]
  },
  {
   "cell_type": "code",
   "execution_count": null,
   "metadata": {},
   "outputs": [],
   "source": [
    "print(int(2.777)) #trunca o número\n",
    "print(round(2.777,2)) #round(numero,casas decimais) limita as casas decimais e arredonda para a casa desejada\n",
    "print(8//3) #divisão que pega o número inteiro\n",
    "\n",
    "numero = 6/3\n",
    "numero /= 2 # numero = numero/2\n",
    "print(numero)\n",
    "numero += 2 # numero = numero + 2\n",
    "print(numero)\n",
    "numero -= 2 # numero = numero -2\n",
    "print(numero)\n",
    "numero *= 2 #  numero = numero * 2\n",
    "print(numero)\n",
    "\n"
   ]
  },
  {
   "cell_type": "markdown",
   "metadata": {},
   "source": [
    "3.3 F string"
   ]
  },
  {
   "cell_type": "code",
   "execution_count": 9,
   "metadata": {},
   "outputs": [
    {
     "name": "stdout",
     "output_type": "stream",
     "text": [
      "Your score is 0, your height is 1.8, you are telling the True\n",
      "12.45\n"
     ]
    }
   ],
   "source": [
    "score = 0\n",
    "height = 1.8\n",
    "isWinning = True\n",
    "decimal = 12.454\n",
    "\n",
    "print(f\"Your score is {score}, your height is {height}, you are telling the {isWinning}\")\n",
    "print(f\"{decimal:.2f}\") # arredonda para 2 casas decimais, \":.numero_casas_decimaisf\""
   ]
  }
 ],
 "metadata": {
  "kernelspec": {
   "display_name": "Python 3",
   "language": "python",
   "name": "python3"
  },
  "language_info": {
   "codemirror_mode": {
    "name": "ipython",
    "version": 3
   },
   "file_extension": ".py",
   "mimetype": "text/x-python",
   "name": "python",
   "nbconvert_exporter": "python",
   "pygments_lexer": "ipython3",
   "version": "3.12.4"
  }
 },
 "nbformat": 4,
 "nbformat_minor": 2
}
