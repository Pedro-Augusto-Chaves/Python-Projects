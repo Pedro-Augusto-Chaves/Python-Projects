{
 "cells": [
  {
   "cell_type": "markdown",
   "metadata": {},
   "source": [
    "1.1 Priting"
   ]
  },
  {
   "cell_type": "code",
   "execution_count": null,
   "metadata": {},
   "outputs": [],
   "source": [
    "#USANDO ASPAS\n",
    "print('She said: \"Hello\" and then left.') #pode usar aspas simples ou duplas para strings\n",
    "print(\"She said: \\\"Hello\\\" and then left.\") #com as barras ele ignora o que está dentro como código e interpreta como texto\n",
    "print(\"She said: 'Hello' and then left\") # outra maneira"
   ]
  },
  {
   "cell_type": "code",
   "execution_count": null,
   "metadata": {},
   "outputs": [],
   "source": [
    "#NOVA LINHA\n",
    "print(\"Hello world!\\nHello World!\") #\\n quebra uma linha"
   ]
  },
  {
   "cell_type": "code",
   "execution_count": null,
   "metadata": {},
   "outputs": [],
   "source": [
    "#CONCATENAR STRINGS\n",
    "print(\"Hello\" + \" Angela\") # Junta duas strings\n",
    "print(\"Hello\" + ' ' + \"Angela\") #Adiciona espaço concatenando\n",
    "#Lembrete: não coloque espaços antes dos códigos, pois há problema de identação. Também só vale par strings"
   ]
  },
  {
   "cell_type": "code",
   "execution_count": null,
   "metadata": {},
   "outputs": [],
   "source": [
    "#TAMANHO DA STRING\n",
    "a = len(\"1234567\") #Função Len mede tamanho da string\n",
    "print(a)"
   ]
  },
  {
   "cell_type": "markdown",
   "metadata": {},
   "source": [
    "1.2 COMANDO INPUT"
   ]
  },
  {
   "cell_type": "code",
   "execution_count": null,
   "metadata": {},
   "outputs": [],
   "source": [
    "#INPUT\n",
    "name = input(\"What is your name? \") #Funcao que recebe uma string do usuario como valor\n",
    "print(name)\n",
    "\n",
    "print(\"Hello \" + input(\"What is your name? \")) #Printa hello + o que o usuario digitar"
   ]
  }
 ],
 "metadata": {
  "kernelspec": {
   "display_name": "Python 3",
   "language": "python",
   "name": "python3"
  },
  "language_info": {
   "codemirror_mode": {
    "name": "ipython",
    "version": 3
   },
   "file_extension": ".py",
   "mimetype": "text/x-python",
   "name": "python",
   "nbconvert_exporter": "python",
   "pygments_lexer": "ipython3",
   "version": "3.12.4"
  }
 },
 "nbformat": 4,
 "nbformat_minor": 2
}
