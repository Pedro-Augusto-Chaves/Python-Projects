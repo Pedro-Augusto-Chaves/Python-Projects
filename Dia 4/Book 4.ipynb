{
 "cells": [
  {
   "cell_type": "markdown",
   "metadata": {},
   "source": [
    "1. RANDOM MODULE"
   ]
  },
  {
   "cell_type": "code",
   "execution_count": 1,
   "metadata": {},
   "outputs": [
    {
     "name": "stdout",
     "output_type": "stream",
     "text": [
      "9\n",
      "3.1416\n"
     ]
    }
   ],
   "source": [
    "import random\n",
    "import my_module\n",
    "\n",
    "random_integer = random.randint(1,10) #número aleatório de 1 a 10\n",
    "print(random_integer)\n",
    "print(my_module.pi)"
   ]
  },
  {
   "cell_type": "markdown",
   "metadata": {},
   "source": [
    "1.1 Random float"
   ]
  },
  {
   "cell_type": "code",
   "execution_count": 3,
   "metadata": {},
   "outputs": [
    {
     "name": "stdout",
     "output_type": "stream",
     "text": [
      "2.5168354402306603\n"
     ]
    }
   ],
   "source": [
    "import random\n",
    "random_float = random.random() #mostra um número aleatório entre 0.00.. e 0.9999..\n",
    "print(random_float*5)"
   ]
  },
  {
   "cell_type": "markdown",
   "metadata": {},
   "source": [
    "2. LISTAS"
   ]
  },
  {
   "cell_type": "code",
   "execution_count": 7,
   "metadata": {},
   "outputs": [
    {
     "name": "stdout",
     "output_type": "stream",
     "text": [
      "Paraiba\n",
      "Maranhao\n",
      "['Paraiba', 'Sao Paulo', 'Maranhao']\n",
      "['Paraiba', 'Sao Paulo', 'Maranhao', 'Pernambuco']\n"
     ]
    }
   ],
   "source": [
    "states_of_brazil = [\"Paraiba\",\"Pernambuco\",\"Maranhao\"]\n",
    "print(states_of_brazil[0]) #printa o primero item\n",
    "print(states_of_brazil[-1]) #printa o ultimo item\n",
    "\n",
    "states_of_brazil[1] = \"Sao Paulo\" #substitui o item do indice por outro valor\n",
    "print(states_of_brazil)\n",
    "\n",
    "states_of_brazil.append(\"Pernambuco\") #Adiciona um item no final da lista\n",
    "print(states_of_brazil)\n"
   ]
  },
  {
   "cell_type": "markdown",
   "metadata": {},
   "source": [
    "2.1 NESTED LISTS\n",
    "Listas dentro de listas"
   ]
  },
  {
   "cell_type": "code",
   "execution_count": 6,
   "metadata": {},
   "outputs": [
    {
     "name": "stdout",
     "output_type": "stream",
     "text": [
      "3.4\n"
     ]
    }
   ],
   "source": [
    "list1 = [\"0, 1,2,3\", \"3.4\"]\n",
    "list2 = [\"4,5,6\"]\n",
    "list3 = [\"7,8,9\"]\n",
    "\n",
    "numeros_naturais = [list1,list2,list3]\n",
    "\n",
    "numeros_naturais\n",
    "\n",
    "print(numeros_naturais[0][1]) #O PRIMEIRO COLCHETE E DA LISTA MAIS EXTERNA E O RESTO SEGUINDO AS LISTAS INTERNAS"
   ]
  }
 ],
 "metadata": {
  "kernelspec": {
   "display_name": "Python 3",
   "language": "python",
   "name": "python3"
  },
  "language_info": {
   "codemirror_mode": {
    "name": "ipython",
    "version": 3
   },
   "file_extension": ".py",
   "mimetype": "text/x-python",
   "name": "python",
   "nbconvert_exporter": "python",
   "pygments_lexer": "ipython3",
   "version": "3.12.4"
  }
 },
 "nbformat": 4,
 "nbformat_minor": 2
}
