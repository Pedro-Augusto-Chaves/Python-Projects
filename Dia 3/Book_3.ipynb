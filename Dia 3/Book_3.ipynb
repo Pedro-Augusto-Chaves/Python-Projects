{
 "cells": [
  {
   "cell_type": "markdown",
   "metadata": {},
   "source": [
    "1. IF STATEMENTS"
   ]
  },
  {
   "cell_type": "code",
   "execution_count": 2,
   "metadata": {},
   "outputs": [
    {
     "name": "stdout",
     "output_type": "stream",
     "text": [
      "You can't go\n"
     ]
    }
   ],
   "source": [
    "height = int(input(\"Digit your height: \"))\n",
    "if height > 120:\n",
    "    print(\"You can go\")\n",
    "else:\n",
    "    print(\"You can't go\")"
   ]
  },
  {
   "cell_type": "markdown",
   "metadata": {},
   "source": [
    "1.1 Nested if"
   ]
  },
  {
   "cell_type": "code",
   "execution_count": null,
   "metadata": {},
   "outputs": [],
   "source": [
    "height = int( input(\"Digit your height: \") )\n",
    "\n",
    "if height >= 120:\n",
    "    age = int( input(\"Digit your age: \") )\n",
    "    if age >= 12:\n",
    "        print(\"You can go\")\n",
    "    else:\n",
    "        print(\"You can't go\")\n",
    "else:\n",
    "    print(\"You can't go\")"
   ]
  },
  {
   "cell_type": "markdown",
   "metadata": {},
   "source": [
    "1.2 Elif statement"
   ]
  },
  {
   "cell_type": "code",
   "execution_count": 4,
   "metadata": {},
   "outputs": [
    {
     "name": "stdout",
     "output_type": "stream",
     "text": [
      "You can go and pay 22 reais\n"
     ]
    }
   ],
   "source": [
    "height = int( input(\"Digit your height: \") )\n",
    "if height >= 120:\n",
    "    age = int( input(\"Digit your age: \") )\n",
    "    if age < 12:\n",
    "        print(\"You can go and pay 7 reais\")\n",
    "    elif age <= 15:\n",
    "        print(\"You can go and pay 12 reais\")\n",
    "    elif age <= 18:\n",
    "        print(\"You can go and pay 18 reais\")\n",
    "    else:\n",
    "        print(\"You can go and pay 22 reais\")\n",
    "else:\n",
    "    print(\"You can't go\")"
   ]
  }
 ],
 "metadata": {
  "kernelspec": {
   "display_name": "Python 3",
   "language": "python",
   "name": "python3"
  },
  "language_info": {
   "codemirror_mode": {
    "name": "ipython",
    "version": 3
   },
   "file_extension": ".py",
   "mimetype": "text/x-python",
   "name": "python",
   "nbconvert_exporter": "python",
   "pygments_lexer": "ipython3",
   "version": "3.12.4"
  }
 },
 "nbformat": 4,
 "nbformat_minor": 2
}
